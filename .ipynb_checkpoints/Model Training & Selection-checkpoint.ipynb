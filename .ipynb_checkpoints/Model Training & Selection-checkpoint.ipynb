{
 "cells": [
  {
   "cell_type": "code",
   "execution_count": 1,
   "id": "b8e6441b-5831-46d3-811f-2caafd38ca5d",
   "metadata": {},
   "outputs": [],
   "source": [
    "import numpy as np\n",
    "import pandas as pd\n",
    "\n",
    "import matplotlib.pyplot as plt\n",
    "import seaborn as sns\n",
    "import plotly.express as px\n",
    "\n",
    "from sklearn.preprocessing import StandardScaler\n",
    "from sklearn.model_selection import cross_val_score,cross_val_predict\n",
    "\n",
    "from sklearn.linear_model import LinearRegression\n",
    "from sklearn.linear_model import Ridge\n",
    "from sklearn.linear_model import Lasso\n",
    "\n",
    "\n",
    "from sklearn.ensemble import RandomForestRegressor\n",
    "\n",
    "from sklearn.svm import LinearSVR,SVR,NuSVR\n",
    "\n",
    "from sklearn.metrics import mean_squared_error,mean_absolute_error"
   ]
  },
  {
   "cell_type": "code",
   "execution_count": 12,
   "id": "22c374cb-02b4-45f3-a2fd-b848eefd0725",
   "metadata": {},
   "outputs": [],
   "source": [
    "train_set=pd.read_csv('train_set.csv')\n",
    "test_set=pd.read_csv('test_set.csv')"
   ]
  },
  {
   "cell_type": "code",
   "execution_count": 13,
   "id": "aa2055c2-a765-4397-945b-62816a245e45",
   "metadata": {},
   "outputs": [],
   "source": [
    "X_train=train_set.drop('selling_price',axis=1)\n",
    "y_train=train_set['selling_price']\n",
    "X_test=test_set.drop('selling_price',axis=1)\n",
    "y_test=test_set['selling_price']"
   ]
  },
  {
   "cell_type": "code",
   "execution_count": 17,
   "id": "840534d6-96f1-4a97-bea6-408b477c4d7c",
   "metadata": {},
   "outputs": [],
   "source": [
    "X_train_scaled=pd.DataFrame(StandardScaler().fit_transform(X_train),columns=X_train.columns)"
   ]
  },
  {
   "cell_type": "code",
   "execution_count": null,
   "id": "c4774cf1-7ff0-4cb0-9805-56d1436a3523",
   "metadata": {},
   "outputs": [],
   "source": []
  },
  {
   "cell_type": "code",
   "execution_count": 19,
   "id": "f6fd9328-6944-4b15-8500-c6db976cbc41",
   "metadata": {},
   "outputs": [],
   "source": [
    "## Linear Regression"
   ]
  },
  {
   "cell_type": "code",
   "execution_count": 73,
   "id": "0843489d-9c17-4a73-8de9-c4d07a409dc3",
   "metadata": {},
   "outputs": [
    {
     "data": {
      "text/plain": [
       "array([-479854.43599216, -448621.20987887, -470610.44385921])"
      ]
     },
     "execution_count": 73,
     "metadata": {},
     "output_type": "execute_result"
    }
   ],
   "source": [
    "lin_reg=LinearRegression()\n",
    "cross_val_score(lin_reg,X_train_scaled,y_train,cv=3,scoring='neg_root_mean_squared_error')"
   ]
  },
  {
   "cell_type": "code",
   "execution_count": 74,
   "id": "3f6a6ac2-5d7a-4bfa-8047-c7e78357b8b2",
   "metadata": {},
   "outputs": [
    {
     "data": {
      "text/plain": [
       "array([-877833.52032001, -785797.64159249, -841578.00659351])"
      ]
     },
     "execution_count": 74,
     "metadata": {},
     "output_type": "execute_result"
    }
   ],
   "source": [
    "svr=SVR()\n",
    "cross_val_score(svr,X_train_scaled,y_train,cv=3,scoring='neg_root_mean_squared_error')"
   ]
  },
  {
   "cell_type": "code",
   "execution_count": 75,
   "id": "fabb967d-2a76-41a9-a642-937849a8c397",
   "metadata": {},
   "outputs": [
    {
     "data": {
      "text/plain": [
       "array([-479864.35817472, -448261.8880691 , -469838.26941882])"
      ]
     },
     "execution_count": 75,
     "metadata": {},
     "output_type": "execute_result"
    }
   ],
   "source": [
    "ridge=Ridge()\n",
    "cross_val_score(ridge,X_train_scaled,y_train,cv=3,scoring='neg_root_mean_squared_error')"
   ]
  },
  {
   "cell_type": "code",
   "execution_count": 76,
   "id": "693cae5e-1b72-41a1-9ef9-7ad58a6324d7",
   "metadata": {},
   "outputs": [
    {
     "data": {
      "text/plain": [
       "array([-479854.58747657, -448269.54236609, -469841.22113528])"
      ]
     },
     "execution_count": 76,
     "metadata": {},
     "output_type": "execute_result"
    }
   ],
   "source": [
    "lasso=Lasso()\n",
    "cross_val_score(lasso,X_train_scaled,y_train,cv=3,scoring='neg_root_mean_squared_error')"
   ]
  },
  {
   "cell_type": "code",
   "execution_count": 77,
   "id": "f858ee68-ee2b-4a22-9e07-3ee16deac135",
   "metadata": {},
   "outputs": [
    {
     "data": {
      "text/plain": [
       "array([-187740.31390294, -146626.11867083, -155461.19916296])"
      ]
     },
     "execution_count": 77,
     "metadata": {},
     "output_type": "execute_result"
    }
   ],
   "source": [
    "random_for=RandomForestRegressor()\n",
    "cross_val_score(random_for,X_train_scaled,y_train,cv=3,scoring='neg_root_mean_squared_error')"
   ]
  },
  {
   "cell_type": "code",
   "execution_count": 78,
   "id": "0d93e18a-922b-4490-a35d-a953c06503e0",
   "metadata": {},
   "outputs": [],
   "source": [
    "## from above steps we understood"
   ]
  },
  {
   "cell_type": "code",
   "execution_count": null,
   "id": "b0ec579e-d3bb-468d-937e-908fc5348eee",
   "metadata": {},
   "outputs": [],
   "source": []
  }
 ],
 "metadata": {
  "kernelspec": {
   "display_name": "Python 3 (ipykernel)",
   "language": "python",
   "name": "python3"
  },
  "language_info": {
   "codemirror_mode": {
    "name": "ipython",
    "version": 3
   },
   "file_extension": ".py",
   "mimetype": "text/x-python",
   "name": "python",
   "nbconvert_exporter": "python",
   "pygments_lexer": "ipython3",
   "version": "3.9.5"
  }
 },
 "nbformat": 4,
 "nbformat_minor": 5
}
