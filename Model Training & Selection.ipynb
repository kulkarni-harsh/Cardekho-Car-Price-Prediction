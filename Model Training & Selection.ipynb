{
 "cells": [
  {
   "cell_type": "code",
   "execution_count": 1,
   "id": "b8e6441b-5831-46d3-811f-2caafd38ca5d",
   "metadata": {},
   "outputs": [],
   "source": [
    "import numpy as np\n",
    "import pandas as pd\n",
    "\n",
    "import matplotlib.pyplot as plt\n",
    "import seaborn as sns\n",
    "import plotly.express as px\n",
    "\n",
    "from sklearn.preprocessing import StandardScaler\n",
    "from sklearn.model_selection import cross_val_score,cross_val_predict,GridSearchCV,RandomizedSearchCV\n",
    "\n",
    "from sklearn.linear_model import LinearRegression\n",
    "from sklearn.linear_model import Ridge\n",
    "from sklearn.linear_model import Lasso\n",
    "\n",
    "\n",
    "from sklearn.ensemble import RandomForestRegressor\n",
    "\n",
    "from sklearn.svm import LinearSVR,SVR,NuSVR\n",
    "\n",
    "from sklearn.metrics import mean_squared_error,mean_absolute_error\n",
    "\n",
    "import joblib"
   ]
  },
  {
   "cell_type": "code",
   "execution_count": 2,
   "id": "22c374cb-02b4-45f3-a2fd-b848eefd0725",
   "metadata": {},
   "outputs": [],
   "source": [
    "train_set=pd.read_csv('train_set.csv')\n",
    "test_set=pd.read_csv('test_set.csv')"
   ]
  },
  {
   "cell_type": "code",
   "execution_count": 3,
   "id": "aa2055c2-a765-4397-945b-62816a245e45",
   "metadata": {},
   "outputs": [],
   "source": [
    "X_train=train_set.drop('selling_price',axis=1)\n",
    "y_train=train_set['selling_price']\n",
    "X_test=test_set.drop('selling_price',axis=1)\n",
    "y_test=test_set['selling_price']"
   ]
  },
  {
   "cell_type": "code",
   "execution_count": 4,
   "id": "840534d6-96f1-4a97-bea6-408b477c4d7c",
   "metadata": {},
   "outputs": [],
   "source": [
    "X_train_scaled=pd.DataFrame(StandardScaler().fit_transform(X_train),columns=X_train.columns)"
   ]
  },
  {
   "cell_type": "code",
   "execution_count": 5,
   "id": "c4774cf1-7ff0-4cb0-9805-56d1436a3523",
   "metadata": {},
   "outputs": [],
   "source": [
    "X_test_scaled=pd.DataFrame(StandardScaler().fit_transform(X_test),columns=X_test.columns)"
   ]
  },
  {
   "cell_type": "code",
   "execution_count": 6,
   "id": "f6fd9328-6944-4b15-8500-c6db976cbc41",
   "metadata": {},
   "outputs": [],
   "source": [
    "## Linear Regression"
   ]
  },
  {
   "cell_type": "code",
   "execution_count": 7,
   "id": "0843489d-9c17-4a73-8de9-c4d07a409dc3",
   "metadata": {},
   "outputs": [
    {
     "name": "stdout",
     "output_type": "stream",
     "text": [
      "-466362.02991007944\n"
     ]
    }
   ],
   "source": [
    "lin_reg=LinearRegression()\n",
    "lin_reg_scores=cross_val_score(lin_reg,X_train_scaled,y_train,cv=3,scoring='neg_root_mean_squared_error')\n",
    "print(lin_reg_scores.mean())"
   ]
  },
  {
   "cell_type": "code",
   "execution_count": 8,
   "id": "d3eb7cab-492b-469f-980f-4d3819067c3c",
   "metadata": {},
   "outputs": [],
   "source": [
    "##SVR"
   ]
  },
  {
   "cell_type": "code",
   "execution_count": 9,
   "id": "3f6a6ac2-5d7a-4bfa-8047-c7e78357b8b2",
   "metadata": {},
   "outputs": [
    {
     "data": {
      "text/plain": [
       "-835069.7228353387"
      ]
     },
     "execution_count": 9,
     "metadata": {},
     "output_type": "execute_result"
    }
   ],
   "source": [
    "svr=SVR()\n",
    "svr_scores=cross_val_score(svr,X_train_scaled,y_train,cv=3,scoring='neg_root_mean_squared_error')\n",
    "svr_scores.mean()"
   ]
  },
  {
   "cell_type": "code",
   "execution_count": 10,
   "id": "ac946f23-7a7d-430e-bd76-6d008acec77e",
   "metadata": {},
   "outputs": [],
   "source": [
    "## Ridge Regression"
   ]
  },
  {
   "cell_type": "code",
   "execution_count": 11,
   "id": "fabb967d-2a76-41a9-a642-937849a8c397",
   "metadata": {},
   "outputs": [
    {
     "data": {
      "text/plain": [
       "-465988.1718875472"
      ]
     },
     "execution_count": 11,
     "metadata": {},
     "output_type": "execute_result"
    }
   ],
   "source": [
    "ridge=Ridge()\n",
    "ridge_score=cross_val_score(ridge,X_train_scaled,y_train,cv=3,scoring='neg_root_mean_squared_error')\n",
    "ridge_score.mean()"
   ]
  },
  {
   "cell_type": "code",
   "execution_count": 12,
   "id": "0ff967bb-8745-4f05-b7f3-900c0d7ccb56",
   "metadata": {},
   "outputs": [],
   "source": [
    "## Lasso Regression"
   ]
  },
  {
   "cell_type": "code",
   "execution_count": 13,
   "id": "693cae5e-1b72-41a1-9ef9-7ad58a6324d7",
   "metadata": {},
   "outputs": [
    {
     "data": {
      "text/plain": [
       "-465988.4503259791"
      ]
     },
     "execution_count": 13,
     "metadata": {},
     "output_type": "execute_result"
    }
   ],
   "source": [
    "lasso=Lasso()\n",
    "lasso_score=cross_val_score(lasso,X_train_scaled,y_train,cv=3,scoring='neg_root_mean_squared_error')\n",
    "lasso_score.mean()"
   ]
  },
  {
   "cell_type": "code",
   "execution_count": 14,
   "id": "d0cbb3e7-f40a-4038-be9a-b88d359e4637",
   "metadata": {},
   "outputs": [],
   "source": [
    "## RAndom Forest Regressor"
   ]
  },
  {
   "cell_type": "code",
   "execution_count": 73,
   "id": "f858ee68-ee2b-4a22-9e07-3ee16deac135",
   "metadata": {},
   "outputs": [
    {
     "data": {
      "text/plain": [
       "-163836.9461780618"
      ]
     },
     "execution_count": 73,
     "metadata": {},
     "output_type": "execute_result"
    }
   ],
   "source": [
    "random_for=RandomForestRegressor()\n",
    "random_for_score=cross_val_score(random_for,X_train_scaled,y_train,cv=3,scoring='neg_root_mean_squared_error')\n",
    "random_for_score.mean()"
   ]
  },
  {
   "cell_type": "code",
   "execution_count": 16,
   "id": "2424f478-979d-4d4b-bba9-aa67e0104360",
   "metadata": {},
   "outputs": [],
   "source": [
    "## Summarizing above cross validation scores in a tabular form"
   ]
  },
  {
   "cell_type": "markdown",
   "id": "7a42ec25-693e-4597-9755-248b2044fde2",
   "metadata": {},
   "source": [
    "| Model | Cross Validation Score (Negative Root Mean Squared Error) | \n",
    "| --- | --- | \n",
    "| Linear Regression | -466362.03 |\n",
    "| SVR | -835069.72 | \n",
    "| Ridge Regression| -465988.17 | \n",
    "| Lasso Regression| -465988.45 | \n",
    "| RandomForest (Default)| -163836.95 | "
   ]
  },
  {
   "cell_type": "code",
   "execution_count": 17,
   "id": "0d93e18a-922b-4490-a35d-a953c06503e0",
   "metadata": {},
   "outputs": [],
   "source": [
    "## from above steps we understood that Random Forest Regressor is the best for this given dataset"
   ]
  },
  {
   "cell_type": "code",
   "execution_count": 18,
   "id": "b0ec579e-d3bb-468d-937e-908fc5348eee",
   "metadata": {},
   "outputs": [],
   "source": [
    "## now we will focus on RandomForestRegressor \n",
    "## But firstly lets store the model"
   ]
  },
  {
   "cell_type": "code",
   "execution_count": 19,
   "id": "943e3585-aa81-41c6-a6da-64cbf2b3e536",
   "metadata": {},
   "outputs": [
    {
     "data": {
      "text/plain": [
       "['RandomForestRegressor.pkl']"
      ]
     },
     "execution_count": 19,
     "metadata": {},
     "output_type": "execute_result"
    }
   ],
   "source": [
    "joblib.dump(random_for,'RandomForestRegressor.pkl')"
   ]
  },
  {
   "cell_type": "code",
   "execution_count": 20,
   "id": "39cf8615-a8c5-4a7c-b42a-0a90bab587d6",
   "metadata": {},
   "outputs": [],
   "source": [
    "## Now we will use Grid Search to tune the model"
   ]
  },
  {
   "cell_type": "code",
   "execution_count": 21,
   "id": "985290ca-f819-4072-9579-b01821f8d132",
   "metadata": {},
   "outputs": [],
   "source": [
    "param_grid=[\n",
    "    {\n",
    "        'n_estimators':[3,10,30],\n",
    "        'bootstrap':[True,False],\n",
    "        'max_features':[2,4,6,8,12,14]\n",
    "    },\n",
    "    {\n",
    "        'bootstrap':[True,False],\n",
    "        'n_estimators':[3,10,30],\n",
    "    }\n",
    "    \n",
    "]\n"
   ]
  },
  {
   "cell_type": "code",
   "execution_count": 22,
   "id": "0cf55e3c-3491-4bd3-997b-018272cf3bbe",
   "metadata": {},
   "outputs": [],
   "source": [
    "random_reg_grid=RandomForestRegressor()"
   ]
  },
  {
   "cell_type": "code",
   "execution_count": 23,
   "id": "61f75a24-a4b5-4cfe-85ba-1fcfe40707ca",
   "metadata": {},
   "outputs": [],
   "source": [
    "grid_search=GridSearchCV(random_reg_grid,param_grid,cv=5,scoring='neg_mean_squared_error',return_train_score=True)"
   ]
  },
  {
   "cell_type": "code",
   "execution_count": 24,
   "id": "f4c744e2-c99c-4d3f-89f6-d05acdf6a00b",
   "metadata": {},
   "outputs": [
    {
     "data": {
      "text/plain": [
       "GridSearchCV(cv=5, estimator=RandomForestRegressor(),\n",
       "             param_grid=[{'bootstrap': [True, False],\n",
       "                          'max_features': [2, 4, 6, 8, 12, 14],\n",
       "                          'n_estimators': [3, 10, 30]},\n",
       "                         {'bootstrap': [True, False],\n",
       "                          'n_estimators': [3, 10, 30]}],\n",
       "             return_train_score=True, scoring='neg_mean_squared_error')"
      ]
     },
     "execution_count": 24,
     "metadata": {},
     "output_type": "execute_result"
    }
   ],
   "source": [
    "grid_search.fit(X_train_scaled,y_train)"
   ]
  },
  {
   "cell_type": "code",
   "execution_count": 25,
   "id": "9fcbafcd-6e45-4caa-babd-41f43f055315",
   "metadata": {},
   "outputs": [
    {
     "data": {
      "text/plain": [
       "RandomForestRegressor(bootstrap=False, max_features=8, n_estimators=30)"
      ]
     },
     "execution_count": 25,
     "metadata": {},
     "output_type": "execute_result"
    }
   ],
   "source": [
    "grid_search.best_estimator_"
   ]
  },
  {
   "cell_type": "code",
   "execution_count": 26,
   "id": "01586d16-4530-4081-8219-c4ce3e07f927",
   "metadata": {},
   "outputs": [],
   "source": [
    "## as you can see best n_estimators is 30... as 30 is the maximum we provided, we will further increase the n_estimators"
   ]
  },
  {
   "cell_type": "code",
   "execution_count": 74,
   "id": "c8a6de4c-881e-426e-bded-f1d4dae35e60",
   "metadata": {},
   "outputs": [],
   "source": [
    "param_grid=[\n",
    "    {\n",
    "        'n_estimators':[30,40,50,70],\n",
    "        'bootstrap':[True,False],\n",
    "        'max_features':[2,4,6,8,12,14]\n",
    "    },\n",
    "    {\n",
    "        'bootstrap':[True,False],\n",
    "        'n_estimators':[3,10,30,60],\n",
    "    }\n",
    "    \n",
    "]"
   ]
  },
  {
   "cell_type": "code",
   "execution_count": 75,
   "id": "a7094655-b48f-4ae5-9ec6-40f6db5d111b",
   "metadata": {},
   "outputs": [],
   "source": [
    "grid_search=GridSearchCV(random_reg_grid,param_grid,cv=5,scoring='neg_mean_squared_error',return_train_score=True)"
   ]
  },
  {
   "cell_type": "code",
   "execution_count": 76,
   "id": "69899c59-f82c-43a2-af8c-2e7bef2a7b7e",
   "metadata": {},
   "outputs": [
    {
     "data": {
      "text/plain": [
       "GridSearchCV(cv=5, estimator=RandomForestRegressor(),\n",
       "             param_grid=[{'bootstrap': [True, False],\n",
       "                          'max_features': [2, 4, 6, 8, 12, 14],\n",
       "                          'n_estimators': [30, 40, 50, 70]},\n",
       "                         {'bootstrap': [True, False],\n",
       "                          'n_estimators': [3, 10, 30, 60]}],\n",
       "             return_train_score=True, scoring='neg_mean_squared_error')"
      ]
     },
     "execution_count": 76,
     "metadata": {},
     "output_type": "execute_result"
    }
   ],
   "source": [
    "grid_search.fit(X_train_scaled,y_train)"
   ]
  },
  {
   "cell_type": "code",
   "execution_count": 30,
   "id": "32261fea-0b58-4b07-9b1a-72ddda0d6cb0",
   "metadata": {},
   "outputs": [
    {
     "data": {
      "text/plain": [
       "RandomForestRegressor(bootstrap=False, max_features=8, n_estimators=50)"
      ]
     },
     "execution_count": 30,
     "metadata": {},
     "output_type": "execute_result"
    }
   ],
   "source": [
    "grid_search.best_estimator_"
   ]
  },
  {
   "cell_type": "code",
   "execution_count": null,
   "id": "fa137c9f-e7c4-4aeb-8b08-fc8d696a64e4",
   "metadata": {},
   "outputs": [],
   "source": [
    "## lets check out cv score"
   ]
  },
  {
   "cell_type": "code",
   "execution_count": 80,
   "id": "dadffec2-a804-49f8-bf48-3658e105ebe1",
   "metadata": {},
   "outputs": [],
   "source": [
    "random_for_grid=RandomForestRegressor(bootstrap=False, max_features=8, n_estimators=50)"
   ]
  },
  {
   "cell_type": "code",
   "execution_count": 81,
   "id": "6b8bccac-b0ec-43ab-b6ae-bf03a159538e",
   "metadata": {},
   "outputs": [
    {
     "data": {
      "text/plain": [
       "-161623.4826501824"
      ]
     },
     "execution_count": 81,
     "metadata": {},
     "output_type": "execute_result"
    }
   ],
   "source": [
    "cross_val_score(random_for_grid,X_train_scaled,y_train,cv=3,scoring='neg_root_mean_squared_error').mean()"
   ]
  },
  {
   "cell_type": "code",
   "execution_count": 82,
   "id": "332e2913-59f3-4318-96bd-0ff7eb2ef6c5",
   "metadata": {},
   "outputs": [],
   "source": [
    "## the tuned model works slightly better than the default one (sometimes result can be quite unexpected)"
   ]
  },
  {
   "cell_type": "code",
   "execution_count": 83,
   "id": "c0b9df87-96ff-4052-8b55-12fef4be47ec",
   "metadata": {},
   "outputs": [],
   "source": [
    "## next use Random Search CV"
   ]
  },
  {
   "cell_type": "code",
   "execution_count": 84,
   "id": "53b59d78-6380-423c-ab25-c20777b17731",
   "metadata": {},
   "outputs": [],
   "source": [
    "random_search_forest=RandomForestRegressor()"
   ]
  },
  {
   "cell_type": "code",
   "execution_count": 85,
   "id": "99c4aa5c-4b4a-458d-ac6b-8df787f8211d",
   "metadata": {},
   "outputs": [],
   "source": [
    "param_grid_randomized={\n",
    "        'n_estimators':[100,110,120,130,140,150,160,170,180,190],\n",
    "        'bootstrap':[True,False],\n",
    "        'max_features':[1,2,3,4,5,6],\n",
    "        'min_samples_split':[2,3,4,5],\n",
    "        'min_samples_leaf':[1,2,3,4,5],\n",
    "        \n",
    "}\n",
    "    \n"
   ]
  },
  {
   "cell_type": "code",
   "execution_count": 86,
   "id": "af550b7d-4bd4-4723-90a6-31977a9b5d8e",
   "metadata": {},
   "outputs": [],
   "source": [
    "random_search=RandomizedSearchCV(random_search_forest,param_grid_randomized,return_train_score=True,scoring='neg_root_mean_squared_error')"
   ]
  },
  {
   "cell_type": "code",
   "execution_count": 87,
   "id": "79bfe343-e414-4dcd-8095-cc639368ed16",
   "metadata": {},
   "outputs": [
    {
     "data": {
      "text/plain": [
       "RandomizedSearchCV(estimator=RandomForestRegressor(),\n",
       "                   param_distributions={'bootstrap': [True, False],\n",
       "                                        'max_features': [1, 2, 3, 4, 5, 6],\n",
       "                                        'min_samples_leaf': [1, 2, 3, 4, 5],\n",
       "                                        'min_samples_split': [2, 3, 4, 5],\n",
       "                                        'n_estimators': [100, 110, 120, 130,\n",
       "                                                         140, 150, 160, 170,\n",
       "                                                         180, 190]},\n",
       "                   return_train_score=True,\n",
       "                   scoring='neg_root_mean_squared_error')"
      ]
     },
     "execution_count": 87,
     "metadata": {},
     "output_type": "execute_result"
    }
   ],
   "source": [
    "random_search.fit(X_train_scaled,y_train)"
   ]
  },
  {
   "cell_type": "code",
   "execution_count": 88,
   "id": "53b887a8-64bc-4527-97ca-4337471b07fa",
   "metadata": {},
   "outputs": [
    {
     "data": {
      "text/plain": [
       "RandomForestRegressor(bootstrap=False, max_features=4, min_samples_leaf=2,\n",
       "                      min_samples_split=4)"
      ]
     },
     "execution_count": 88,
     "metadata": {},
     "output_type": "execute_result"
    }
   ],
   "source": [
    "random_search.best_estimator_"
   ]
  },
  {
   "cell_type": "code",
   "execution_count": 89,
   "id": "19226a66-8c4a-4957-80f6-78d43eebb5ed",
   "metadata": {},
   "outputs": [],
   "source": [
    "random_search_model=RandomForestRegressor(bootstrap=False, max_features=4, min_samples_leaf=2,min_samples_split=4)"
   ]
  },
  {
   "cell_type": "code",
   "execution_count": 90,
   "id": "66787b89-0800-453f-a5e9-fdb342d2cbaa",
   "metadata": {},
   "outputs": [
    {
     "data": {
      "text/plain": [
       "-167131.2344854168"
      ]
     },
     "execution_count": 90,
     "metadata": {},
     "output_type": "execute_result"
    }
   ],
   "source": [
    "cross_val_score(random_search_model,X_train_scaled,y_train,cv=3,scoring='neg_root_mean_squared_error').mean()"
   ]
  },
  {
   "cell_type": "code",
   "execution_count": 50,
   "id": "4c9a8862-f90e-44fa-b714-b1afcfd8efc6",
   "metadata": {},
   "outputs": [],
   "source": [
    "## Summarizing above cross validation scores "
   ]
  },
  {
   "cell_type": "markdown",
   "id": "a3ca1de6-324f-4fff-94b4-83d95f582c8b",
   "metadata": {},
   "source": [
    "| Model | Cross Validation Score (Negative Root Mean Squared Error) | \n",
    "| --- | --- | \n",
    "| RandomForest (Default)| -163836.95 | \n",
    "| RandomForest (GridSearch) | -161623.48 | \n",
    "| RandomForest Randomized SearchCV | -167131.23 | \n"
   ]
  },
  {
   "cell_type": "code",
   "execution_count": 91,
   "id": "34d38af0-2042-441e-a7d2-15ea89c562b3",
   "metadata": {},
   "outputs": [],
   "source": [
    "## from above table we found out that RandomForest (GridSearch) model works better than any other models "
   ]
  },
  {
   "cell_type": "code",
   "execution_count": 92,
   "id": "5fde7ad3-3c16-4965-bbf4-b020d947fe83",
   "metadata": {},
   "outputs": [],
   "source": [
    "## so lets fit the train set & store the best model we got so far"
   ]
  },
  {
   "cell_type": "code",
   "execution_count": 102,
   "id": "d75e34b7-da58-4f4c-b799-8a6307e83c9c",
   "metadata": {},
   "outputs": [
    {
     "data": {
      "text/plain": [
       "RandomForestRegressor(bootstrap=False, max_features=8, n_estimators=50)"
      ]
     },
     "execution_count": 102,
     "metadata": {},
     "output_type": "execute_result"
    }
   ],
   "source": [
    "random_for_grid.fit(X_train_scaled,y_train)"
   ]
  },
  {
   "cell_type": "code",
   "execution_count": 103,
   "id": "32d86560-308e-405e-b4f7-bfbe2c326851",
   "metadata": {},
   "outputs": [
    {
     "data": {
      "text/plain": [
       "['final_model.pkl']"
      ]
     },
     "execution_count": 103,
     "metadata": {},
     "output_type": "execute_result"
    }
   ],
   "source": [
    "joblib.dump(random_for_grid,'final_model.pkl')"
   ]
  },
  {
   "cell_type": "code",
   "execution_count": 104,
   "id": "8b852979-525f-466d-af9d-2dd810f034ea",
   "metadata": {},
   "outputs": [],
   "source": [
    "final_model=joblib.load('final_model.pkl')"
   ]
  },
  {
   "cell_type": "code",
   "execution_count": 105,
   "id": "e73b97f3-3cce-423f-bc30-d34c9b895ea6",
   "metadata": {},
   "outputs": [],
   "source": [
    "y_test_predicted=final_model.predict(X_test_scaled)"
   ]
  },
  {
   "cell_type": "code",
   "execution_count": 106,
   "id": "a1a61cbc-9da9-47aa-90c1-87be49e12efe",
   "metadata": {},
   "outputs": [
    {
     "data": {
      "text/plain": [
       "221491.8245344129"
      ]
     },
     "execution_count": 106,
     "metadata": {},
     "output_type": "execute_result"
    }
   ],
   "source": [
    "np.sqrt(mean_squared_error(y_test,y_test_predicted))"
   ]
  },
  {
   "cell_type": "code",
   "execution_count": null,
   "id": "d7e4a52c-79ec-4b55-bb85-19811072892b",
   "metadata": {},
   "outputs": [],
   "source": []
  },
  {
   "cell_type": "code",
   "execution_count": 101,
   "id": "3754567e-1ddc-4337-8a23-240fe2a39991",
   "metadata": {},
   "outputs": [],
   "source": [
    "## This model further can be enhanced by adding more test data & lowering overfitting"
   ]
  },
  {
   "cell_type": "code",
   "execution_count": null,
   "id": "d0108822-166f-4755-830f-cce0321348ac",
   "metadata": {},
   "outputs": [],
   "source": []
  }
 ],
 "metadata": {
  "kernelspec": {
   "display_name": "Python 3 (ipykernel)",
   "language": "python",
   "name": "python3"
  },
  "language_info": {
   "codemirror_mode": {
    "name": "ipython",
    "version": 3
   },
   "file_extension": ".py",
   "mimetype": "text/x-python",
   "name": "python",
   "nbconvert_exporter": "python",
   "pygments_lexer": "ipython3",
   "version": "3.9.5"
  }
 },
 "nbformat": 4,
 "nbformat_minor": 5
}
